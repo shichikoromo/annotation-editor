{
 "cells": [
  {
   "cell_type": "code",
   "execution_count": 34,
   "id": "17e76c41",
   "metadata": {
    "scrolled": true
   },
   "outputs": [
    {
     "name": "stdout",
     "output_type": "stream",
     "text": [
      "Requirement already satisfied: ipywidgets in /opt/conda/lib/python3.11/site-packages (8.1.7)\n",
      "Requirement already satisfied: comm>=0.1.3 in /opt/conda/lib/python3.11/site-packages (from ipywidgets) (0.1.4)\n",
      "Requirement already satisfied: ipython>=6.1.0 in /opt/conda/lib/python3.11/site-packages (from ipywidgets) (8.16.1)\n",
      "Requirement already satisfied: traitlets>=4.3.1 in /opt/conda/lib/python3.11/site-packages (from ipywidgets) (5.11.2)\n",
      "Requirement already satisfied: widgetsnbextension~=4.0.14 in /opt/conda/lib/python3.11/site-packages (from ipywidgets) (4.0.14)\n",
      "Requirement already satisfied: jupyterlab_widgets~=3.0.15 in /opt/conda/lib/python3.11/site-packages (from ipywidgets) (3.0.15)\n",
      "Requirement already satisfied: backcall in /opt/conda/lib/python3.11/site-packages (from ipython>=6.1.0->ipywidgets) (0.2.0)\n",
      "Requirement already satisfied: decorator in /opt/conda/lib/python3.11/site-packages (from ipython>=6.1.0->ipywidgets) (5.1.1)\n",
      "Requirement already satisfied: jedi>=0.16 in /opt/conda/lib/python3.11/site-packages (from ipython>=6.1.0->ipywidgets) (0.19.1)\n",
      "Requirement already satisfied: matplotlib-inline in /opt/conda/lib/python3.11/site-packages (from ipython>=6.1.0->ipywidgets) (0.1.6)\n",
      "Requirement already satisfied: pickleshare in /opt/conda/lib/python3.11/site-packages (from ipython>=6.1.0->ipywidgets) (0.7.5)\n",
      "Requirement already satisfied: prompt-toolkit!=3.0.37,<3.1.0,>=3.0.30 in /opt/conda/lib/python3.11/site-packages (from ipython>=6.1.0->ipywidgets) (3.0.39)\n",
      "Requirement already satisfied: pygments>=2.4.0 in /opt/conda/lib/python3.11/site-packages (from ipython>=6.1.0->ipywidgets) (2.16.1)\n",
      "Requirement already satisfied: stack-data in /opt/conda/lib/python3.11/site-packages (from ipython>=6.1.0->ipywidgets) (0.6.2)\n",
      "Requirement already satisfied: pexpect>4.3 in /opt/conda/lib/python3.11/site-packages (from ipython>=6.1.0->ipywidgets) (4.8.0)\n",
      "Requirement already satisfied: parso<0.9.0,>=0.8.3 in /opt/conda/lib/python3.11/site-packages (from jedi>=0.16->ipython>=6.1.0->ipywidgets) (0.8.3)\n",
      "Requirement already satisfied: ptyprocess>=0.5 in /opt/conda/lib/python3.11/site-packages (from pexpect>4.3->ipython>=6.1.0->ipywidgets) (0.7.0)\n",
      "Requirement already satisfied: wcwidth in /opt/conda/lib/python3.11/site-packages (from prompt-toolkit!=3.0.37,<3.1.0,>=3.0.30->ipython>=6.1.0->ipywidgets) (0.2.8)\n",
      "Requirement already satisfied: executing>=1.2.0 in /opt/conda/lib/python3.11/site-packages (from stack-data->ipython>=6.1.0->ipywidgets) (1.2.0)\n",
      "Requirement already satisfied: asttokens>=2.1.0 in /opt/conda/lib/python3.11/site-packages (from stack-data->ipython>=6.1.0->ipywidgets) (2.4.0)\n",
      "Requirement already satisfied: pure-eval in /opt/conda/lib/python3.11/site-packages (from stack-data->ipython>=6.1.0->ipywidgets) (0.2.2)\n",
      "Requirement already satisfied: six>=1.12.0 in /opt/conda/lib/python3.11/site-packages (from asttokens>=2.1.0->stack-data->ipython>=6.1.0->ipywidgets) (1.16.0)\n"
     ]
    }
   ],
   "source": [
    "!pip install ipywidgets\n",
    "\n",
    "import ipywidgets as widgets\n",
    "from ipywidgets import FileUpload\n",
    "from IPython.display import display\n",
    "import requests\n",
    "import os\n"
   ]
  },
  {
   "cell_type": "code",
   "execution_count": 46,
   "id": "bb5a4a87-29ea-4d35-abc0-12da25665b04",
   "metadata": {},
   "outputs": [],
   "source": [
    "# 1. mp3 をアップロードして DB に保存\n",
    "def upload_mp3(path):\n",
    "    with open(path, \"rb\") as f:\n",
    "        files = {\"file\": (path, f, \"audio/mpeg\")}\n",
    "        r = requests.post(\"http://backend:8000/upload_audio/\", files=files)\n",
    "    print(\"Status code:\", r.status_code)\n",
    "    print(\"Text:\", r.text)\n",
    "    return r.json()\n",
    "\n",
    "# 2. 保存された mp3 を使ってトランスクリプション\n",
    "def transcribe_from_db(file_id):\n",
    "    r = requests.post(f\"http://backend:8000/transcribe/{file_id}\")\n",
    "    print(\"Status code:\", r.status_code)\n",
    "    print(\"Text:\", r.text)\n",
    "    return r\n"
   ]
  },
  {
   "cell_type": "code",
   "execution_count": 43,
   "id": "6c126b90-6e16-4476-8582-ef02baa0b1c0",
   "metadata": {
    "scrolled": true
   },
   "outputs": [
    {
     "name": "stdout",
     "output_type": "stream",
     "text": [
      "Status code: 200\n",
      "Text: {\"id\":1,\"filename\":\"./uploads/16.mp3\"}\n"
     ]
    }
   ],
   "source": [
    "file = upload_mp3(\"./uploads/16.mp3\")"
   ]
  },
  {
   "cell_type": "code",
   "execution_count": 44,
   "id": "351cd585-36a8-4ed0-a8c3-719714c4ecb5",
   "metadata": {},
   "outputs": [
    {
     "name": "stdout",
     "output_type": "stream",
     "text": [
      "Status code: 200\n",
      "Text: {\"response\":\" Interview 16. Meine heißere Stimme. So, da sind sie hin, dann wird es zu lernen sein. Ja. So, sie waren lange. Ja, ich möchte auch noch etwas zu binden. Also wenn ich über etwas übertallen möchte, dann muss man sich auch gründlich informieren. Und da muss man auch nicht nur das halbe, sondern das Ganze zu lesen und zu studieren versuchen. Und das möchte ich noch. Also ich bin auch nicht ganz durch. Aber was mich nicht nur an dieser Ausstellung, sondern was mich schon bald nach dem Krieg an der Nachkriegsbetrachtung, also das Ganze politisch und des Kriegsgeschehens gestört hat, das war immer die Einsheitigkeit oder die allzu große Einsheitigkeit. Und ich frage mich auch, warum werden hier nur die auch für meine Auffassung scheißlichen Verbrechen von deutschen Einsatzgruppen oder Einheiten geschildert. Und dazu für die Schulkinderzumahl der Eindruck erweckt, als sei er die ganze Wehrmacht oder ein Verbrecher hoffen gewesen, und eine Mauer der Wande. Und wenn das sogar ein Geschichtsprofessor wie Prof. Messerschmitt sagt oder er war ja lange Zeit, dann direkt um eines Wissens vom Militärgeschicklichen Forschungsamt in Freiburg, dann bekümmerten mich das eigentlich sehr. Das stört mich auch an dieser Ausstellung. Und ich kann nur immer nur den Kopf schütteln, wenn ich auch in diesen Interviews und den Film aufnahmen, wenn ich dort sehe, dass offensichtlich so fjetische Filme als Alibi Iran gezogen werden, wo also deutsche Soldaten verurteilt wurden für Verbrechen. Ich war fast fünf Jahre in so fjetischer Gefahrmenschafft und zum Teil auch in spezielle Behandlung, in Anführung streichen. Ich weiß, wie die Russen Menschen seelisch kaputt machen und sie zu jeder Aussage bereit machen. Und dass man das überhaupt noch als glaubwürdig hier heute zeigt, das kann nicht schlecht verstehen. Man hat doch gerade jetzt nach dem Umbruch 1989, 90, auch in der Sofedunion, in der Zugang zu den Akten des KGB zum Beispiel zu den Akten, die dieser sogenannten Kriegsverbrecher Prozesse mit welchen Mitteln da gearbeitet wurde. Aber wenn man es nicht vorher gewusst hat, die Dinge waren für interessiert, schon vorher bekannt. Man hätte man es jetzt wissen müssen und dass man dann immer noch in einbringen, also dann muss ich sagen, das ist einfach nicht sachlich und das ist auch unwürdig so etwas zu tun. Ich bin immer sehr dafür, dass man nach diesen vielen der Probeganter, der Brauen und der Roten und auch der westlichen Probeganter, auch da wird sehr viel Proberge hier durch manipuliert. Auch in den Kriegsnachrichten, man konnte das sehr gut verfolgen, auch in dem Angriff auf den Irak damals, nicht wie die Menschen da zum Teil hinter das Licht geführt wurden mit gefälschten Interviews. Ich bin immer dafür, dass man ganz sachlich die Verbrechen aufzudecken versucht auf unserer, aber auch auf den anderen Seiten. Den nur so kann ein einiger Maßen verständliches Bild entstehen. Auch hier diese Dinge, die da berichtet waren. Das sind diese Erhängungen oder die Erschiesungen. Die sind oft barbarische Reaktionen auf Überfälle von Partisanen und auf genauso schreckliche Geräul von Partisanen, also, dass sie Soldaten massacriert haben, relativ richtig. Ich habe das einmal während des Krieges selber erleben müssen. Und dann versteht man, dass zum Teil besser entschuldigen kann man das nicht. Die Mode ist mode ganz gleich auf welcher Seite. Aber ich finde, man sollte doch strikt bei der Wahrheit bleiben und man sollte auch die Gründe den Gründen nachgehen. Das heißt, ich finde, dass das Vereinfachte ausdrücken soll. Der Rund hat fürchterlich gebissen. Aber was halb ergebissen hat, das fehlt immer unterrichtlich. Sie haben gesagt, sie waren selbst und krieg. Sie mir erzählen, dass sie ihr Lied haben? Ja, ich war eingezogen, wollte ich nach Polen. Da habe ich schon zum Teil erleben müssen. Das war 43, nicht. Ich war bin ja 25. Wie dort Partisanen über Fälle waren. Und sonst hat man den Polen dort nichts getan zu der Zeit. Ich kann das nicht sagen. Wohl den Jungen. Das war schon etwas fürchterliches. Aber wenn ich denke, das war offen bei Sonder-Einheiten. Da hatte ein Soldat, konnte das wieder dafür worden sein. Ich finde, das lief völlig von uns unter Einfluss. Und mit den Apolendort, der da war, kann ich sagen, ich kann nicht, wenn ich vorher schwellen, dass sie uns besonders freundlich gesehen waren. Sie waren ja schließlich, das war ja schließlich ein besetzes Land. Aber wer sich nicht mit der Waffe gegen die Besatzung oder gegen die Tuppen da gewinnet hat, dem ist soweit ich das feststellen und erleben konnte, nichts passiert. In den letzten Kriegsmonaten war ich in der Chios-Lawakai. Dort wurde ich am Ende auch gefangen. Es ist natürlich das eine oder andere, das war ein geheimniskrise. Ich war dann noch in Romänien, ich war in Ungarn und kam dann zum Schluss. Ich war dann noch auf einer Schule in der damaligen Reich. Ich kam dann wieder zurück in die Chios-Lawakai. Da schächen soweit ich das erleben konnte, den hat es besser gegangen als in Deutschland im Reich. In sie waren von diesen massiven Bombenangriffen, waren sie verschont. Und sie hatten mehr zu essen als sie Deutschen auf ihre Lebensmittelkarten. Wir haben dort als junge Soldaten versucht gegen Zigaretten, also nicht Traur, aber auch nicht Traur. Das ging Lebensmittel einzutauschen. Bei der Zivilbevölkerung. Der war nichts passiert und die Arbeiteten für uns und die Verdienten normalen. Also vom Terror war da nicht wirklich nicht zu spüren. Das war das Terror überhaupt, was wo zu Menschen fähig sind. Das habe ich während des ganzen Krieges eigentlich nur mit der einen Ausnahme erlebt, wo wir Kameraden wieder befreien wollten, sie aber alle masserquiert waren. Das habe ich erst in der Chios-Lawakai nach der Kapitulation erlebt. Bis dahin verhielt und ich die Chichen, also die hier bei uns waren zum Teil, völlig loyal. Als der Krieg zu Ende war, da kam die so genannten Befreiungskämpfer überwiegend kommunistische, die sich dort uniformiert hatten, zum Teil mit den malerischsten Uniformstücken, Deutschen Uniformstücken mit Tropenhelden und so etwas. Mit Paltscher und Knüppel und die brachten uns dann Demokratie und Flütentöne der neuen Freiheit bei. Ich habe bis dahin nicht gewusst, zu welcher bestiert ein Mensch war. Das habe ich da erst erfahren, als ich so da hatte. Und mit Unhaben dann erleben müssen, dass nicht nur wir Soldaten geprügelt wurden und erschladen wurden zum Teil dort. Das genau so, die Zivilisten getrieben wurden. Da sage ich mir immer, warum wird das, fehlt das alles völlig unentisch? Also so gut wie unentisch, das lesen sie ganz selten. Das war eine Leidenseit damals und wie ich später, nach 1950 aus der Kriegsgefahrungsschaft zurückkam, wie ich später dann erfahren habe, in ganz Ost-Auropa war das ja ähnlich abgelaufen. Ich weiß nicht, ob Ihnen bekannt ist, dass 2,5 Millionen Menschen noch nach dem Krieg auf der Flucht elend umbekommen sind, verhundert an Krankheit, an Tiefus gestorben oder auch erschlagen oder erschossen. Jetzt haben wir gesagt, auf verschiedenen Stationen während des Krieges habe man einiges gesehen, oder sie hätten einiges gesehen. Ja, also ich habe verbrechen gehört. Ja, nein, verbrechen, vom Verbrechen habe ich gehört, einmal durch jemanden, da war ich noch nicht im Krieg, da war ein Soldat aus Russland in Urlaub. Und da hat davon, unter dem Silid der verschwiegen Strangsterverschwiegenheit davon erzählt, dass es Schießungen gegeben hätte. Wie sie hier auch geschildert wurden, nicht von Juden vornehmlich. Und das sind wirklich förchterliche Sachen, nicht unter Wendee wie Junk oder Alt immer wieder in diesen Buch schreiben, die wieder krieg. Dann kann ich das nur dreimal unterstreichen, denn ich habe nicht nur den Rest des Krieges erlebt, müssen sollen auch den scheuslichen Nachkrieg. Ich finde sie bedenken, dass von den Soldaten die ob junge, jünger oder älter, die in die russische Gefangenschaft gekommen sind, jeder dritte Lichtheim kreieren konnte, weil er dort umgekommen ist. Meistens sind sie verhungert. Dass in Yugoslavia fast jeder zweite Soldat umgebracht wurde oder in den Bergwagen in Lenzorun oder in Ankrankheit oder Hunger. Dann kann man nicht einfach wegwischen, und dann ist auch kein Aufregend, wie das immer wieder heißt, das verstehe ich gar nicht, dass man das sagt. Wenn ich eine Buchhaltung habe, dann habe ich ein Sol und dann habe ich ein Haben. Ich weiß nicht, ob sie Kaufminis ausgebildet sind. Und eine Rechnung kann nur stimmen, wenn ich soll und haben, ganz nicht dann Abzähle und dann einen Schluss schlicht ziehen. Und wenn sie ein Prozess erleben, dann hat auch, und es gibt Antklager und Verteidigung, dann hat die Verteidigung genauso ein Recht, das für sein, nehmen wir an einen Mörder. Für die Argumente, die beizubringen, wer es halb das Geschehen ist oder was man berücksichtigen soll, das ist ganz zerstänglich. Aber hier erlebe ich immer wieder, die Verteidigung, wenn man sagt, das ist zwar richtig und das bedauern wir alle sehr. Aber warum spricht man nicht von den Verbrechenden der Anlagen? Und die sind reichlich, wenn man sich damit befasst. Und ich habe das eigentlich sehr intensiv getan. Ich habe schon, wenn ich in der Gefangenschaft, wenn ich konnte, habe ich mich mit den theoretischen Schriften des Soviet-Socialismus befasst, ob das nun Marx und Engels war oder ob das, also die da als Vorläufer geschildert wurden oder ob mit Linien oder Stahlien oder Widi-Größen. Das soll wir Sozialismus alle heißen, weil ich ehrlich dann unbemühlt war, unbeeinflusst von aller Probeganen davor her. Wie die ich Lateiner sagen, sind ihr ihre Studio zu finden, was wollen diese Leute und was erlebe ich in der Praxis. Also ich wollte mich nicht mehr von Probeganen da beeinflussen lassen, wie wir ganz ohne Zweifel während des Nationalsozialismus als junge Menschen von Nationalsozialistischer Probeganen da, fast ausschließlich beeinflussst waren. Da konnte man ja, ich weiß, es war für mich eine Erlebnis, als ich mal einen stoßzeitschiffen Life bekam von verwanden. Also das waren die einzigen ausländischen Zeitungen, die ich während der Zeit, also bis zum 20. Lebensjahr gelesen habe, sonst waren nur eine Information durch die Nationalsozialisten, denn eine Kontrapresse, die wurde ja verfolgt. Und weil ich nicht, weil ich gesehen hatte, dass das nicht gut war, nicht dass man da ein völlig falsches Bild von vielen Dingen bekam. Hab ich mir geschworen, erst einmal nach den Erlebnissen der Gefangenschaft in der Züroslowakai, nie mehr Menschen über einen Kampf zu scheren. Ich war vorher, musste mir das nicht vorwerfen, aber ich hatte das ja erlebt durch diese schändliche, amtültische Hätze, das war regelrecht Hätze durch den Störmer und unsere Weiteren. Also dass mir das nie wieder passieren sollte, wo ich jetzt erleben musste, dass Deutsche nur weil sie Deutsche waren, Vogelfreiwohnen. Die konnten mit den Deutschen, die haben mit den Deutschen gemacht, da war sie in der Zeit, was sie gerade im Kopf kam. Ich weiß sie mir, wenn ich mit dem Schekolzer schlagen wollte, der hat das gemacht oder weiß ich an den Füßen aufhängen, wollte der hat das gemacht, das war unbeschreiblich, was da geschehen ist. Und das habe ich mir gesagt, dass da das nie wiedergeben, dass man Menschen, welcher Rasse, Klasse, welchen Glaubens, dass man lieber einen Kampf scheren. Das war das eine. Und das andere war, dass ich mich nicht mehr einseitig informieren oder oder viel treieren, normalen Prolieren lassen. Und so lange ich in der Bundesrepublik bin, habe ich mich darum bemüht, immer alle Seiten zu studieren. Das links extrem, genauso wie das Richtsextreme. Ich habe mich mit Leuten, die den Studentenkoriak geschrieben haben oder die Plasterstein-Ruset, was geschrieben haben, haben mich mit denen genauso unterhalten, wie mit rechts oder rechtsradikalen oder mannmal, das waren sie auch nur so nann, rechtsradikale, wie ich dann erfahren musste. Die heute genauso verfolgt waren, wie die AF mit Lieder damals. Und ich habe mir immer allzu oft festgestellt, dass durch unsere Presse, also die Landläufe hierpresse, ob nun die Tagespresse oder ob nur die Wochenpresse Zeit oder Spiegel oder was auch immer. Dass man da oft einfach einseitig und falsch informiert wird. Und deshalb habe ich den, das beiberhalten, dass ich mich immer selber informiere. Und deshalb besuche ich auch solche Ausstellungen wie diese, obwohl ich schon davon ausgehe und ich habe das leider jetzt wieder bestätigt gefunden, dass sie einfach, sie sind einseitig. Und das gibt eben nur auch die halbe Wahrheit des Leider eine Lüge. Dann sie sich dann, wenn Situationen erinnern, wo sie davon mitbekommen, dass einer in der Wermacht verstrickt, wann in die Verbrechen während des Krieges, also wie es in dieser Ausstellung Thema ist. Nein, nein, also ich habe auch während des Krieges, wenn ich man zum Beispiel an Ungarn denke. Die waren ja damals noch, also da war Ungarn noch nicht umgeschwingt, das war so mal 44. Da hat uns unser Regimentskommandeur, der hat uns eingeschärft, dass wir, wenn er klagen hören sollte von der Zivilbevölkerung, dass er hart durchgreifen würde. Also vom Wegen wie hier Hühner klauen oder gar schlimmer oder Frauen vergewaltigen oder so etwas. Ich habe das kein einziges Mal erlebt, wohl aber musste ich mir nachher, musste ich erleben, dass meine Mutter umgebracht war und dass meine Schwester vergewaltigt war. Nein, das kann ich auch nicht vergessen. Ich habe deshalb im Finde deshalb kein Hass gegen das russische Volk oder gegen Russen. Bauschal, wie ich ihn gesagt habe, ich werde nie wieder Menschen über einen Kampf scheren, aber dass das aufgehetzt der Russenbahn, die das gemacht haben. Da steht fest, und das ist massenweise passiert. Gerade noch in Mecklenburg, ich habe mich dann auch mit dieser Geschichte darüber gibt es auch ein historisches, sachliches, sehr gutes Buch. Da sind ja zum Beispiel in dem kleinen Ort, dem Mien sind über, also mindestens 700 Menschen, haben sich sind freiwillig aus dem Leben geschienen. Weil sie die Vergewaltigungen nicht mehr ertragen konnten, zum Teil mit ihren Kindern. In unserem Dorf habe es, es passiert wieder, wie differenziert das alles ist. Und genauso differenziert war das mit dem Krieg der deutschen Softwaretunjahr. Eine Schulkammeranin meiner Schwester, also ich habe das nicht erlebt, ich war ja im Krieg und in der Gefangenschaft an. Aber die haben mir das erzählt, in den ersten Mai Tagen. Sie wusste sich kein Rad mehr, sie wollte mit ihrer jungen Tochter in dem See in unserem Schlossgaben, wollte sich er trennen. Ein Rousse hat sie wieder aus dem Wasser geholt, hat sie praktisch gerätet. Also so gegensätzlich ist das manchmal im Krieg. Und ich war ja nun einige Zeit in den Russland, mein wir waren dort in nur deutsche Soldaten, in den Arbeitsplagaden, aber wir hatten ja immer wieder Kontakt mit den Russen. Oder mit den Ukraine oder so. Das war ja auch die Softwaretunjohn, weil ja ein Vielfölker starten. Da konnte man mit allen möglichen Menschen Kontakt bekommen. Aber ich kann über die Menschen generell nichts Schlechtes sagen. Sie waren warm, herzlich, sie haben berufen, wo sie kommen. Und das hat man auch in der Chigusel war, greigespült, wo der Mop regierte. Aber die Leute waren so verängstigt und so eingeschüchtert. Menschen, die helfen wollten, die waren nicht sicher, ob sie noch mit Prügel bekommen würde. Ich erinnere mich, wo wir in den großen Hitze einmal wurden wir nach Süden und mussten dir maschieren da. Und der Dorst war wirklich das Schlimmste dazu derzeit. Da hatte eine Frau gewagt mit einer Wasser an die Kolone zu. Es waren immer 2.000, an die 500-2.000 Soldaten waren, an denen sie in Kolone waren, an irgend ein Ziel, in ein Lager getrieben oder so etwas. Die hatte wohl gesehen was. Und aus Abarmen hatte sie ein einmal Wasser an die Gruppe. Das ist wie mit einem kleinen Becher oder irgendwie einen Schluck nehmen konnten. Der Tschechische Begleiter, der Spranker zu, gab dem einmal ein Tritt und der Frau auch. Die war froh, dass er nicht noch hinterher geprügelt hat. Also so war das damals nicht. Das Gute neben den Bösen immer. Und so war das bei den deutschen Soldaten auch. Wenn jemand etwas getan hat, was nicht in Ordnung war, dann gab es bestimmt eben so viele, die ihn in Zoräde gestellt haben. Und die versucht haben zu helfen. Also diese alzupauschale Darstellung finde ich, ist schlimm. Aber haben sie davon mitbekommen oder? Nein, direkt habe ich diese Dinge erst in der Chelle Sorkai erlebt von der anderen Seite. Die sogenannten Freiheitsgimpfer. Und wie war das bisher im Anfang meint ihr Zeit in Polen, dass zu dieser Zeit schauen, dass man wusste, dass sie Juden verfolgt wurden und die Leute wurden? Ja, das hat ich gehört in Wahrschau. Können Sie mir das erzählen? Was haben Sie da? Ja, ich kann Ihnen davon nichts erzählen, weil ich selber nicht im Gettor war. Aber man hat gesehen, dass die Juden nicht frei sich der Wegen konnten. Und ich habe dann auch von jemandem gehört. Der Teil genommen hatte an der Niederschlagung des ersten jüdischen Gettoraufstandes. Der hat im April 1943 stattgefunden. Und wir kam dort im Oktober November nach Wahrschau. Das war schon gewesen. Da habe ich davon gehört, dass das eine ganz grausame, aber muslose Geschichte gewesen sein muss. Und dieser Mann dem Tat ist anscheinend nicht einmal so sonderlich leid. Ich rühmte sich der Anscheinend noch wie Sie da, die Leute. Wie soll ich mich ausdrücken? Wie Sie den Widerstand gebrochen haben, die Leute ausgeräugert haben. Angenaten in die Keller geworfen und das sind mit meinen Augen, das verbrechen. Und hier habe ich nur mit den noch in den Wahrschaut haben. Und dann ein paar die sahen angegriffen. Wir sollten unsere Passbilder machen lassen. Da schossen die paar die sahen auf der Straße. Da macht die KJs der Bekanntschaft mit paar die sahen. Und die zweite Bekanntschaft mit paar die sahen. Und da sind wir dann auch auf paar die sahen. Und da haben wir selber auch Opfer des Partys an Krieges. Nur auf dem Friedhof in KJ begraben. Aber sonst irgendwelche Gräuen oder Grausamkeiten. Oder so habe ich da nicht mehr erlebt. Auf jeden des ganzen Krieges nicht. Ich muss sagen, dass ich nur die letzte Zeit noch eben 41 in der Sowjetunion in die Sowjetunion war. Ich habe erst als Klicks gefangen. Ja, also das ist was. Ich werde mir noch mal Gedanken machen. Ich bin da mit einem jungen Geschichtsstudenten ins Gespräch und in Diskussionen gekommen heute vormittag. Ich habe, wenn wir haben, unsere Anschriften ausgetauscht. Und ihm werde ich immer meine Gedanken zu dieser Studier geschichte. Wie ich die Geschichtsdarstellung erlebe, was ich daran zu beanstalten. Gar nichts. Und wenn Sie jetzt sagen, ein Text oder ein Bild in der Ausstellung, da ihm das besonders hängen, blieben wäre? Ja, diese Bilder und die Schilderung sind mir zum größten Teil nicht neu. Weil ich mich damit auch auch befasst habe. Das gibt ja lange Vorhäuser schon Literatur. Ich lege diese besonders mit den Schäusigkeiten und den unbegreiflichen Verbrechen der Einsatzkommandos. Aber das war, soweit ich feststellen konnte, einheiten, also spezial einheiten. Eine im Vergleich zu den Millionen soll da verschwinden geringe Zahl nicht. Und das da wehrmacht pauschal anzulasten. Das finde ich, ich sehe das als ungeheilig an. Und die Frage, warum hat man jetzt nach 50 Jahren, ich glaube, man hat Angst gehabt vor den vielen Soldaten, die noch lebten und die noch zeug waren. Die hätten ihn wahrscheinlich die Bude eingerannt. Aber ich gehör ja nur noch zu den Jüngsten. Nicht viele um meiner Kameraden, die sind ja gestorben und jährlich starben weitere. Und ich bin inzwischen als einer der Jüngsten damals 70. Nicht, aber sie können davon ausgehen, so lange ich lebe, werde ich meine Kameraden verteiligen. Das waren wieder Mörder noch verbrecher. Das waren junge Worschen wie wir damals oder das waren Familienfädter, die nichts anderes glaubt ein Ton zu müssen, als ihr Vater anzuperteiligen. Und ich bin da nicht so, dass ich meine Familie zu schützen. Und wenn ich dann denke, wie es meinen Schwestern ergang ist, in meinem Viert verwandt, nachher ich stamm aus Mecklenburg, dann hat die Provaganda in vielen Dingen nicht einmal unrecht gehabt. So viele Schoßlichkeiten sind begangen worden. Und ich wäre sehr zufrieden, wenn auf diese Ausstellung, einmal eine Ausstellung, dass ich das mal in der Stadt finden würde, über den Gulag in der Software den Mioen und über den Vernichtungskrieg, Stahlins, über den vor wenigen Wochen ein neues hochhinteres Buch erschienen ist. Gut, da ich sie zum Abschluss noch einige Fragen stellen, Wandsenzige bohren für 17.20. Haben sie beruflich gemacht? Wie benützt, was haben sie beruflich gemacht? Ja, ich wollte eigentlich viele Logo darben. Aber durch den Krieg und den Haag kreiten ist das alles, ich habe dann die DDR so bald wie möglich verlassen. Ich war dann so ein bisschen wie möglich verlassen, nach meiner Entlastung aus der Gefangenschaft. Die Erfahrungen mit dem Sozialismus in der Software Union waren so miserable. Da gibt es keine Zukunft. Das hat sich ja auch bestätigt, wenn auch ich erst nach 40 Jahren für viele. Ja, und aber ich kam damals, damals gab es ja kein Bafluck und keine Stipendien. Ich musste mich erst einmal alleine, ich musste mein Leben unterhalten verdienen. Dann habe ich als Straßenbahnschaffner angefangen, meine erste Skil zu verdienen. Und dann bin ich durch Kameraden aus der Fixgefangenschaft in Zrogebiet gekommen und habe dort eine Texilfachschule in den Stuttgart, weil ich damals noch so war. Ja, und ich bin praktisch also, kaufen, kaufen, kaufen. Ich habe da schon ein paar Stunden in der Textileindustrie, aber ich habe dann eine Stelle bekommen. Aber die Textilfachschule hier in den Stuttgart war ich damals noch. Ja, und ich bin praktisch also, kaufen, kaufen. Ich habe schon angestellt, da geworden im Vertrieb. Wo sind Sie in Stuttgart? Nein, ich habe 31 Jahre im Historien gelebt. Und wir sind jetzt im ersten letzten Jahr, nach meiner Pensionierung nach Bagnang zurückgeliefert. Das ist die Heimat meiner Frau. Können Sie mir sagen, wann wir die Eltern gelebt haben und was die beruflich gemacht haben? Ja, das kann ich Ihnen sagen. Also meine Mutter ist am zweiten Mai ums Leben gekommen. 1945. Und mein Vater war schon jede Meister. Und er ist 1985 gestorben. Und geboren? Ich sage 1888, also 96 Jahre, ich war es nicht gestorben. Sie haben Geschwister? Ja, ich hatte drei Geschwister, drei Schwister. Die älteste Schwester ist aber noch in den letzten Kriegsmonaten gestorben. Die waren zwei Geschwister, leben noch. Zwei waren Eltern oder Jünger Sie? Die waren alle Eltern. Ich war dann erstag. Sie waren selbst im Krieg, da gab es auch weitere Familienmöglichen im Krieg. Mein Vater war eingezogen, da war allerdings auch schon im ersten Weltkrieg. Er wurde dann, weil er schon über 50 war, wurde dann wieder ein Glas machen. Und wo war er? Er war nur in einem Viertel-Latz-Ret. Waren Sie selbst in NS-Organisationen? Ja, das war damals so gut wie selbstverständlich. Ich war kleiner Pimpf, ich war hier Hitler Jünger. Ich war Partei, also in die Partei aufgenommen, obwohl ich nie eine Parteiversammlung besucht habe. Das war, ich war in einer Heimschule. Und da lief das alles fast wie selbstverständlich. Obwohl das kleine NS-Schule war, nicht das war eine Semin. In einer Schule, die in einer Höringung für Lehrer gedacht war. Man konnte auch andere Studien, konnte man auch noch aufnehmen. Aber wie sagt von der Schulbank, kann man einen Krieg haben? Und ihre Eltern waren die Mitglieder in der Partei, wissen Sie? Mein Vater war Partei-Mitglied. Können Sie sich bei Ihnen in den Bewechen einhalten oder die Visionen in den Herdiskruppen? Ja, ich war angehörige der Waffenis. Und wo? In diesen ganzen Orten, die Sie? In den Impolen, in den Ungern in der CHIOS-Lowacay. Und an welchen Frontabstätten sind Sie gewesen? Frontabstchnitt nur in den Ungarnen. Und die letzten Tage, die CHIOS-Lowacay, da gab es ja keine Fronten mehr. Wie gesagt, das waren die schädlichsten Tage und Wochen, die wir erleben mussten. Und natürlich der Leidenzeg nach den in der Gefangenschaft nach Lern. Waren Sie während des Krieges in einer der Städte der Gegenden die in der Ausstellung gewähnt werden? Nein, also nein. Ich war in den Ungarn, war ich also in den saabischen, ehemal saabischen, aber das war damals ungarisches Gebiet. Aber wie gesagt, da habe ich von solchen Sachen nichts gesehen und nichts gehört. Zu der Zivilbevölkerung bestand ein durchaus freundliches Verhältnis. Die haben uns nichts getan und wir haben Ihnen nichts getan. Kann Sie Person oder Sie von Personen gehört in der Ausstellung? Nein, das ist nicht. Wirste ich jetzt nicht? Die hohen Generale natürlich nicht, die hat man natürlich gekannt. Die sind gekannt, wie? So ein Name, welche? Wenn Sie zum Beispiel Kaitel oder Jodel oder wenn die er genannt waren. Das waren ja... In dem ich gehört hatte. Ja, die wurden ja dann auch in einem Nürnbar kingerichtet. Haben Sie die auch gesehen oder nur vom Hören sahen? Nein, ich habe sie nicht gesehen. Ich habe gesehen, habe ich von diesen Leuten niemals von diesen Leuten. Ich habe mich nur später interessiert, nicht was aus Ihnen geworden ist. Auch habe mich intensiv mit dem Nürnbarger Prozess befasst. Auch in meinen Augen eine Phase, in eine völlig einseitige Sache. Die Schauprozesse, die wir in Russland erleben mussten, in westlicher Art. So sehe ich das heute noch. Die Verteidigung waren die Hände gebunden. Das ist in meinen Augen eine Schande für einen westlichen Rechtsstaat. Da hört der Rechtsstaat auf. Wenn die Verteidigung die Mitteln genommen waren, wenn die Verteidigung eingeschränkt hat. Welche Einheit unter Waffen SS waren Sie denn? Ich war bei der achten Kavlerie die Vision. Sie da etwas mitgekriegt von Verbrechen zu den Erwänden? Nein. Es könnte höchstens ein Mann, ich weiß nicht, wie es mir wieder heißt. Das kann ich nicht nur fragen oder kann es vermöglich halten. Mit Sicherheit kann ich da nichts. Da möglicherweise zwei Flüchten der Erschossen hat. Aber sonst waren das alles völlig harmlose junge Borschen, die vorgewesen wären, wenn sie im Frieden hätten leben können. Zum großen Handart-Anteil waren es folgsdeutsche Systeme aus Süd-Ost-Auropa oder aus der Sowjetunion. Mit dem letzten Zug, in dem ich in die Gefangenschaft gekommen bin, waren da noch fünf Deutsche, da war er Reichsdeutsche dabei, wie das ist. Sie waren alle Volksdeutsche aus Russland. Der älteste 50 oder gar knapp 50 und der jüngste 15. Und was hatten Sie für Funktionen in dieser Einheit oder diese Führung? Ja, zuletzt hatte ich den Zug übernehmen müssen in den letzten Tagen. Ich zeig uns, dass ich einen Gruppenführer hatte als Unterwizier und der Offizierschüler. Unterscharführern handelt es sich das bei uns. Ich war damals gerade von der Kavlerie-Schule in Göttingen gekommen. Das war die Offizierschule der Kavlerie in Göttingen. Weren Sie eventuell zu einem weiteren Gespräch bereit, würde Zeit und Erlebnisse sein? Ich wüsste nicht, was ich sagen könnte, dass ich über das hinaus gesagt habe, aber darüber hinaus könnte ich nicht sagen. Ich bin immer bereit zu sprechen und zum Schluss bin ich bereit, dass ich das auch mal melden könnte. Du musst in die siekunden sich normal melden. Dann bräuchte ich auch ihren Namen und ihre Anschefs- oder Telefon-Mor. Aber ich wusste nun, sie sponsored zum anderen Kilogramm in dem auch in Borgen darstelle. So zeug ich ihn. Mehl sie in den Augen ihrer Generation. Hier ist das Wort. und das wird bewusst zu gemacht. Dass die Waffen es ist, eine ganz andere Organisation war, was das Soldaten waren und so Daten vielfach wie die anderen auch, wenn ich zum Beispiel anderen unserer Kameraden aus Siebenwürgen oder aus dem Barnat oder aus Ungarn denke, die wurden anstatt zur Wehrmacht, wo sie zu Waffen es ist, eingezogen. Und die wurden zuletzt auch nicht mehr gefragt, bis 1943 waren das überwiegend Freiwillige. Und selbst diese Freiwilligen, wenn ich an viele denke, das waren verführte vielleicht, aber idealisten zum großen Teilen, das waren, ich weiß nicht wie man heute sagen würde, Pfunds oder Mordskalle, wenn ich den man heute noch nachtrollen muss. Zumal, wenn man weiß, wie sie vielfach was für ein Ende sie gefunden haben. Und das ist auch eine ganz üble Provahre. Dass man nichts sagt, unterscheidet auch da, in der Bibel steht vom Sodom und Gomorra bin nur eingerechter Wärer. Aber dort tut man so, wie wenn alle Teufel und Mordboden gewesen wären. Also es ist eine infarme Lüge, ist das. Und tut hunderttausenden vom Gefallenden und auch noch von Leben in Unrecht. Es hat Schweinehunde gegeben. Es hat sich auch, wenn man an dieser Seite als Gruppen denkt, traurigen Mörder gegeben und so etwas. Und es waren weiß Gott nicht alle Engel. Aber ich kam zunächst in amerikanische Gefangenschaft und erst dann in Norsische. Und zwischendurch von Schächen. Wenn mir jemand erzählen will, dass da alle Engel waren. Da könnte ich im Belehrn. Da könnte ich im Belehrn. Da könnte ich in den halben Acht dazu.\"}\n",
      "<Response [200]>\n"
     ]
    }
   ],
   "source": [
    "text = transcribe_from_db(file[\"id\"])\n",
    "print(text)"
   ]
  },
  {
   "cell_type": "code",
   "execution_count": null,
   "id": "99d42f8f-5400-4215-8534-d7d528426858",
   "metadata": {},
   "outputs": [],
   "source": []
  },
  {
   "cell_type": "code",
   "execution_count": 20,
   "id": "5377c618-fdf3-42f7-b65c-293e30866a92",
   "metadata": {
    "editable": true,
    "scrolled": true,
    "slideshow": {
     "slide_type": ""
    },
    "tags": []
   },
   "outputs": [
    {
     "data": {
      "application/vnd.jupyter.widget-view+json": {
       "model_id": "e7fa4afbdedf436b87bfdd81e2723a08",
       "version_major": 2,
       "version_minor": 0
      },
      "text/plain": [
       "FileUpload(value=(), description='Upload')"
      ]
     },
     "metadata": {},
     "output_type": "display_data"
    }
   ],
   "source": [
    "uploader = widgets.FileUpload()\n",
    "display(uploader)"
   ]
  },
  {
   "cell_type": "code",
   "execution_count": 21,
   "id": "eed0c01c-b5a0-480c-a9d8-003cedc3ad53",
   "metadata": {},
   "outputs": [
    {
     "data": {
      "text/plain": [
       "()"
      ]
     },
     "execution_count": 21,
     "metadata": {},
     "output_type": "execute_result"
    }
   ],
   "source": [
    "uploader.value"
   ]
  }
 ],
 "metadata": {
  "kernelspec": {
   "display_name": "Python 3 (ipykernel)",
   "language": "python",
   "name": "python3"
  },
  "language_info": {
   "codemirror_mode": {
    "name": "ipython",
    "version": 3
   },
   "file_extension": ".py",
   "mimetype": "text/x-python",
   "name": "python",
   "nbconvert_exporter": "python",
   "pygments_lexer": "ipython3",
   "version": "3.11.6"
  }
 },
 "nbformat": 4,
 "nbformat_minor": 5
}
